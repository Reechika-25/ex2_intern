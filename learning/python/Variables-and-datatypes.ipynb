{
 "cells": [
  {
   "cell_type": "code",
   "execution_count": 6,
   "metadata": {},
   "outputs": [
    {
     "name": "stdout",
     "output_type": "stream",
     "text": [
      "Requirement already satisfied: termcolor in /home/rjain/anaconda3/lib/python3.8/site-packages (1.1.0)\r\n"
     ]
    }
   ],
   "source": [
    "!pip install termcolor\n",
    "from termcolor import colored\n"
   ]
  },
  {
   "cell_type": "code",
   "execution_count": 11,
   "metadata": {},
   "outputs": [
    {
     "name": "stdout",
     "output_type": "stream",
     "text": [
      "\u001b[34m1.rules for writing variable names is same as identifiers\u001b[0m\n",
      "\u001b[34m2.in python we do not need to declare a variable the type is handled internally\u001b[0m\n"
     ]
    }
   ],
   "source": [
    "print(colored('1.rules for writing variable names is same as identifiers','blue'))\n",
    "print(colored('2.in python we do not need to declare a variable the type is handled internally','blue'))"
   ]
  },
  {
   "cell_type": "code",
   "execution_count": 14,
   "metadata": {},
   "outputs": [
    {
     "name": "stdout",
     "output_type": "stream",
     "text": [
      "10 5.5 ML\n",
      "ml ml ml\n"
     ]
    }
   ],
   "source": [
    "#multiple assignments\n",
    "\n",
    "a,b,c = 10, 5.5 , 'ML'\n",
    "print(a,b,c)\n",
    "\n",
    "a = b= c = 'ml'\n",
    "print(a,b,c)"
   ]
  },
  {
   "cell_type": "code",
   "execution_count": null,
   "metadata": {},
   "outputs": [],
   "source": []
  }
 ],
 "metadata": {
  "kernelspec": {
   "display_name": "Python 3",
   "language": "python",
   "name": "python3"
  },
  "language_info": {
   "codemirror_mode": {
    "name": "ipython",
    "version": 3
   },
   "file_extension": ".py",
   "mimetype": "text/x-python",
   "name": "python",
   "nbconvert_exporter": "python",
   "pygments_lexer": "ipython3",
   "version": "3.8.5"
  }
 },
 "nbformat": 4,
 "nbformat_minor": 4
}
