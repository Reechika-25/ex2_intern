{
 "cells": [
  {
   "cell_type": "code",
   "execution_count": 15,
   "metadata": {},
   "outputs": [
    {
     "name": "stdout",
     "output_type": "stream",
     "text": [
      "10.960614442825317\n"
     ]
    }
   ],
   "source": [
    "import dask.dataframe as dd\n",
    "import os\n",
    "import time\n",
    "from os import listdir\n",
    "filePath = '/home/apandey/data analysis/class-of-2021/LogAnalytics/logFiles/'\n",
    "arr = os.listdir('/home/apandey/data analysis/class-of-2021/LogAnalytics/logFiles/')\n",
    "file = []\n",
    "start=time.time()\n",
    "df=[]\n",
    "log_field_names = ['date','time','s-sitename', 's-computername', 's-ip', 'cs-method', 'cs-uri-stem', 'cs-uri-query', 's-port', 'cs-username','c-ip','cs-version','cs(User-Agent)', 'cs(Cookie)','cs(Referer)', 'cs-host', 'sc-status', 'sc-substatus', 'sc-win32-status', 'sc-bytes','cs-bytes','time-taken']\n",
    "for files in arr:\n",
    "    print(files)\n",
    "    newFilePath = filePath + files\n",
    "    df_temp = dd.read_csv(newFilePath, sep=' ', comment='#', engine='python',encoding='ISO-8859-1', names=log_field_names,dtype={'cs-bytes': 'float64',\n",
    "       'sc-bytes': 'float64',\n",
    "       'sc-status': 'float64',\n",
    "       'sc-substatus': 'float64',\n",
    "       'sc-win32-status': 'float64',\n",
    "       'time-taken': 'float64'})\n",
    "    df.append(df_temp)\n",
    "    print(newFilePath)\n",
    "print(time.time()-start)\n",
    "print(df[0])\n",
    "\n",
    "\n",
    "\n",
    "\n",
    "\n"
   ]
  },
  {
   "cell_type": "code",
   "execution_count": 2,
   "metadata": {},
   "outputs": [
    {
     "name": "stdout",
     "output_type": "stream",
     "text": [
      "#Software: Microsoft\n"
     ]
    }
   ],
   "source": [
    "from zipfile import ZipFile\n",
    "archive = ZipFile('/home/rjain/Downloads/bdxw3-u_ex210115.zip','r');\n",
    "files = archive.read('bdxw3-u_ex210115.log');\n",
    "files = files.decode('utf-8');\n",
    "print(files[:20])"
   ]
  },
  {
   "cell_type": "code",
   "execution_count": 10,
   "metadata": {},
   "outputs": [
    {
     "name": "stdout",
     "output_type": "stream",
     "text": [
      " \n"
     ]
    }
   ],
   "source": [
    "import pandas as pd\n",
    "import itertools\n",
    "from itertools import dropwhile\n",
    "files=list(itertools.dropwhile(lambda x : x.startswith('#') == 0, files))\n",
    "print(files[10])\n"
   ]
  },
  {
   "cell_type": "code",
   "execution_count": null,
   "metadata": {},
   "outputs": [],
   "source": []
  }
 ],
 "metadata": {
  "kernelspec": {
   "display_name": "Python 3",
   "language": "python",
   "name": "python3"
  },
  "language_info": {
   "codemirror_mode": {
    "name": "ipython",
    "version": 3
   },
   "file_extension": ".py",
   "mimetype": "text/x-python",
   "name": "python",
   "nbconvert_exporter": "python",
   "pygments_lexer": "ipython3",
   "version": "3.8.5"
  }
 },
 "nbformat": 4,
 "nbformat_minor": 4
}
