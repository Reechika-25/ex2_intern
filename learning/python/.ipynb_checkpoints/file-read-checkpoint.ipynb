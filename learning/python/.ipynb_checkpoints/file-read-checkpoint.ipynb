{
 "cells": [
  {
   "cell_type": "code",
   "execution_count": null,
   "metadata": {},
   "outputs": [],
   "source": [
    "import time\n",
    "import pandas as pd\n",
    "st = time.time()\n",
    "import os\n",
    "from os import listdir\n",
    "filePath = '/home/rjain/logFiles/'\n",
    "arr = os.listdir('/home/rjain/logFiles')\n",
    "file = pd.DataFrame()\n",
    "for files in arr:\n",
    "    newFilePath = filePath + files\n",
    "    df = pd.read_csv(newFilePath,error_bad_lines = False,sep = ' ',comment = '#', encoding = \"ISO-8859-1\")\n",
    "    file = file.append(df)\n",
    "print(time.time()-st)\n",
    "\n"
   ]
  },
  {
   "cell_type": "code",
   "execution_count": 9,
   "metadata": {},
   "outputs": [
    {
     "name": "stdout",
     "output_type": "stream",
     "text": [
      "31.362963676452637\n"
     ]
    }
   ],
   "source": [
    "import time\n",
    "import pandas as pd\n",
    "st = time.time()\n",
    "import os\n",
    "from os import listdir\n",
    "filePath = '/home/rjain/logFiles/'\n",
    "#arr = os.listdir('/home/rjain/logFiles')\n",
    "arr = ['bdxw1-u_ex210101.log','bdxw1-u_ex210102.log']\n",
    "file = pd.DataFrame()\n",
    "for files in arr:\n",
    "    newFilePath = filePath + files\n",
    "    df = pd.read_csv(newFilePath,error_bad_lines = False,sep = ' ',comment = '#', encoding = \"ISO-8859-1\")\n",
    "    file = file.append(df)\n",
    "print(time.time()-st)"
   ]
  },
  {
   "cell_type": "code",
   "execution_count": 10,
   "metadata": {},
   "outputs": [
    {
     "data": {
      "text/plain": [
       "1667668"
      ]
     },
     "execution_count": 10,
     "metadata": {},
     "output_type": "execute_result"
    }
   ],
   "source": [
    "len(file)"
   ]
  },
  {
   "cell_type": "code",
   "execution_count": 6,
   "metadata": {},
   "outputs": [
    {
     "data": {
      "text/html": [
       "<div>\n",
       "<style scoped>\n",
       "    .dataframe tbody tr th:only-of-type {\n",
       "        vertical-align: middle;\n",
       "    }\n",
       "\n",
       "    .dataframe tbody tr th {\n",
       "        vertical-align: top;\n",
       "    }\n",
       "\n",
       "    .dataframe thead th {\n",
       "        text-align: right;\n",
       "    }\n",
       "</style>\n",
       "<table border=\"1\" class=\"dataframe\">\n",
       "  <thead>\n",
       "    <tr style=\"text-align: right;\">\n",
       "      <th></th>\n",
       "    </tr>\n",
       "  </thead>\n",
       "  <tbody>\n",
       "  </tbody>\n",
       "</table>\n",
       "</div>"
      ],
      "text/plain": [
       "Empty DataFrame\n",
       "Columns: []\n",
       "Index: []"
      ]
     },
     "execution_count": 6,
     "metadata": {},
     "output_type": "execute_result"
    }
   ],
   "source": [
    "file"
   ]
  },
  {
   "cell_type": "code",
   "execution_count": null,
   "metadata": {},
   "outputs": [],
   "source": []
  }
 ],
 "metadata": {
  "kernelspec": {
   "display_name": "Python 3",
   "language": "python",
   "name": "python3"
  },
  "language_info": {
   "codemirror_mode": {
    "name": "ipython",
    "version": 3
   },
   "file_extension": ".py",
   "mimetype": "text/x-python",
   "name": "python",
   "nbconvert_exporter": "python",
   "pygments_lexer": "ipython3",
   "version": "3.8.5"
  }
 },
 "nbformat": 4,
 "nbformat_minor": 4
}
