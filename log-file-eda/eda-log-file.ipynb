{
 "cells": [
  {
   "cell_type": "code",
   "execution_count": 3,
   "metadata": {
    "colab": {
     "base_uri": "https://localhost:8080/"
    },
    "executionInfo": {
     "elapsed": 27832,
     "status": "ok",
     "timestamp": 1612094055186,
     "user": {
      "displayName": "Reechika Jain",
      "photoUrl": "",
      "userId": "17683768411973625930"
     },
     "user_tz": -330
    },
    "id": "CX5SCRzJ_nKK",
    "outputId": "4a2ee2db-f99f-41bf-c446-750103957731"
   },
   "outputs": [
    {
     "name": "stdout",
     "output_type": "stream",
     "text": [
      "Mounted at /content/drive\n"
     ]
    }
   ],
   "source": [
    "#importing drive content into google colab\n",
    "from google.colab import drive\n",
    "drive.mount('/content/drive')"
   ]
  },
  {
   "cell_type": "code",
   "execution_count": 4,
   "metadata": {
    "colab": {
     "base_uri": "https://localhost:8080/"
    },
    "executionInfo": {
     "elapsed": 8711,
     "status": "ok",
     "timestamp": 1612094066974,
     "user": {
      "displayName": "Reechika Jain",
      "photoUrl": "",
      "userId": "17683768411973625930"
     },
     "user_tz": -330
    },
    "id": "DQ0nMnig8Aa7",
    "outputId": "c6d98220-716b-48cb-dd95-cc922db0f32b"
   },
   "outputs": [
    {
     "name": "stdout",
     "output_type": "stream",
     "text": [
      "['2021-01-15 06:00:00 W3SVC1 BDXW3 192.168.102.97 GET /plan/chauncy-lennar-kyle-tx/1801879 - 80 - 216.52.89.85 HTTP/1.1 Mozilla/5.0+(Windows;+U;+Windows+NT+5.1;+en-US;+rv:1.8.1.13)+Gecko/20080311+Firefox/2.0.0.13 ASP.NET_SessionId=qc3mwuvr1bdgorwqrvjre33s;+false=http://www.newretirementcommunities.com http://www.google.com www.newhomesource.com 200 0 0 272781 505 343', '2021-01-15 06:00:00 W3SVC1 BDXW3 192.168.102.97 POST /segment/response - 80 - 76.246.0.90 HTTP/1.1 Mozilla/5.0+(Windows+NT+10.0;+Win64;+x64)+AppleWebKit/537.36+(KHTML,+like+Gecko)+Chrome/87.0.4280.141+Safari/537.36 ASP.NET_SessionId=bfbbb0iebuiwmhdtunldumvo;+LastMarketViewed_1=41;+Personal_1=market=41&state=CA&searchtext=Vacaville%2c+CA;+ajs_anonymous_id=%227c2d5d8a-15e7-417d-8b89-0a1b99d128fc%22;+_ga=GA1.2.1077430005.1609915500;+_gac_UA-40843711-1=1.1609915500.CjwKCAiAudD_BRBXEiwAudakX0Fl5KFfQ_J0gJIJrifZ0QTLm6OYLqtUFJwDNaNUr4KXpVeBAONMuhoCWhEQAvD_BwE;+__utmc=147023400;+__utmz=147023400.1609915500.1.1.utmgclid=CjwKCAiAudD_BRBXEiwAudakX0Fl5KFfQ_J0gJIJrifZ0QTLm6OYLqtUFJwDNaNUr4KXpVeBAONMuhoCWhEQAvD_BwE|utmccn=(not%20set)|utmcmd=(not%20set)|utmctr=(not%20provided);+_gac_UA-224213-1=1.1609915500.CjwKCAiAudD_BRBXEiwAudakX0Fl5KFfQ_J0gJIJrifZ0QTLm6OYLqtUFJwDNaNUr4KXpVeBAONMuhoCWhEQAvD_BwE;+CommResultsHeaderStatusQmi=false;+CommResultsHeaderStatusHD=false;+CommResultsHeaderStatusCustom=false;+CommResultsHeaderStatusBoyl=true;+CommResultsHeaderStatusManuf=false;+_fbp=fb.1.1609915500196.1681708006;+_gac_UA-40843711-8=1.1609915500.CjwKCAiAudD_BRBXEiwAudakX0Fl5KFfQ_J0gJIJrifZ0QTLm6OYLqtUFJwDNaNUr4KXpVeBAONMuhoCWhEQAvD_BwE;+_gcl_aw=GCL.1609915501.CjwKCAiAudD_BRBXEiwAudakX0Fl5KFfQ_J0gJIJrifZ0QTLm6OYLqtUFJwDNaNUr4KXpVeBAONMuhoCWhEQAvD_BwE;+_gcl_au=1.1.937868506.1609915501;+atlasvid=%7B%22visitorid%22%3A%22e3c9fa0f-98e0-44e4-9936-6ee6cd365264%22%7D;+atlasseg_c54cc9b9eddc4937be4642ece2658c61=%7B%22referrer%22%3A%22https%3A%2F%2Fwww.google.com%2F%22%2C%22division%22%3A%22Vacaville%22%2C%22community%22%3Anull%2C%22plan%22%3Anull%2C%22source%22%3Anull%2C%22medium%22%3Anull%2C%22campaign%22%3Anull%7D;+CTAName=Search+Refinement;+atlasseg_ef0855f35fd44ed8a8096ded8879fd71=%7B%22referrer%22%3A%22https%3A%2F%2Fwww.newhomesource.com%2Fcommunity%2Fca%2Fvacaville%2Fbristowe-at-north-village-by-seeno-homes%2F148175%22%2C%22division%22%3A%22Vacaville%22%2C%22community%22%3A%22Bristowe%20at%20North%20Village%22%2C%22plan%22%3A%22Dalton%22%2C%22source%22%3Anull%2C%22medium%22%3Anull%2C%22campaign%22%3Anull%7D;+_gac_UA-40843711-4=1.1609915996.CjwKCAiAudD_BRBXEiwAudakX0Fl5KFfQ_J0gJIJrifZ0QTLm6OYLqtUFJwDNaNUr4KXpVeBAONMuhoCWhEQAvD_BwE;+splitChatMobile=Chatbot+Mobile+-B;+CTAName=Search+Action;+_gid=GA1.2.378504988.1610685925;+_gaexp=GAX1.2.nIHJjCAMQz-_pwHt6eWn2g.18710.0!MmEwGBFNRLK96py1v24YCQ.18708.2!62qMdIf-RMaAAqGWwb1rIw.18733.0;+__utma=147023400.1077430005.1609915500.1610685924.1610690330.4;+__utmt=1;+lux_uid=161069033086676317;+outbrain_cid_fetch=true;+__utmb=147023400.3.10.1610690330;+_dc_gtm_UA-40843711-1=1;+_uetsid=7b80a88056ec11ebb60315c3ab194440;+_uetvid=b27fdd004fea11ebbd71f101efc03d6c;+_dc_gtm_UA-40843711-4=1;+_gat_UA-40843711-4=1;+_gat_UA-40843711-8=1;+false=http://www.maturelivingchoices.com https://www.newhomesource.com/plan/tate-richmond-american-homes-vacaville-ca/1815293 www.newhomesource.com 200 0 0 490 3254 62', '2021-01-15 06:00:00 W3SVC1 BDXW3 192.168.102.97 GET /homeresults/florida/miami-dade-county-area/bal-harbour/page-126 - 80 - 13.66.139.99 HTTP/1.1 Mozilla/5.0+(compatible;+bingbot/2.0;++http://www.bing.com/bingbot.htm) - - newhomes.nj.com 301 0 0 362 358 62', '2021-01-15 06:00:00 W3SVC11 BDXW3 192.168.102.97 GET /miami/communityresults/getpreview Type=C&Status=G&Id=149806&showFeedBack=false&clientId=0&_=1610690357939 80 - 23.122.96.57 HTTP/1.1 Mozilla/5.0+(Windows+NT+10.0;+Win64;+x64)+AppleWebKit/537.36+(KHTML,+like+Gecko)+Chrome/86.0.4240.75+Safari/537.36 SsoUserAttributes_9016=FirstName,+LastName,+Email,+AgencyName;+Profile_9016={13386112-12dd-4082-a6b0-c50739c7598a};+_ga=GA1.2.1587936588.1609700564;+_fbp=fb.1.1609700564725.981923011;+_hjid=22a6e95d-46bb-44d2-be51-aa0778d49771;+_gu=c7dc164c-70c2-407c-b84b-39b708fad067;+HideEngageYourClients_9016=True;+ASP.NET_SessionId=85d2c2e1-5fa1-44aa-8eff-af723a6b87d8;+_gid=GA1.2.902112610.1610689412;+__utma=214516104.1587936588.1609700564.1609700565.1610689413.2;+__utmc=214516104;+__utmz=214516104.1610689413.2.2.utmcsr=sef.clareityiam.net|utmccn=(referral)|utmcmd=referral|utmcct=/;+_hjIncludedInPageviewSample=1;+_hjTLDTest=1;+_hjAbsoluteSessionInProgress=0;+_gs=2.s(src%3Dhttps%3A%2F%2Fwww.newhomesourceprofessional.com%2Fmiami);+_gat_UA-40843711-3=1;+_gw=2.u%5B%2C%2C%2C%2C%5Dv%5B~fzdlz%2C~5%2C~1%5Da();+__utmb=214516104.34.8.1610690358391;+_gat_UA-73436-17=1 https://www.newhomesourceprofessional.com/miami/communities/florida/broward-county-ft.-lauderdale/ www.newhomesourceprofessional.com 200 0 0 13516 1502 62', '2021-01-15 06:00:00 W3SVC1 BDXW3 192.168.102.97 GET /communities/ny/dutchess-county-area/dutchess-county - 80 - 195.154.122.178 HTTP/1.1 Mozilla/5.0+(compatible;+AhrefsBot/7.0;++http://ahrefs.com/robot/) - - www.newhomesource.com 200 0 0 311532 387 296', '2021-01-15 06:00:00 W3SVC1 BDXW3 192.168.102.97 POST /googleanalytics/getgoogleecommercepush - 80 - 76.246.0.90 HTTP/1.1 Mozilla/5.0+(Windows+NT+10.0;+Win64;+x64)+AppleWebKit/537.36+(KHTML,+like+Gecko)+Chrome/87.0.4280.141+Safari/537.36 ASP.NET_SessionId=bfbbb0iebuiwmhdtunldumvo;+LastMarketViewed_1=41;+Personal_1=market=41&state=CA&searchtext=Vacaville%2c+CA;+ajs_anonymous_id=%227c2d5d8a-15e7-417d-8b89-0a1b99d128fc%22;+_ga=GA1.2.1077430005.1609915500;+_gac_UA-40843711-1=1.1609915500.CjwKCAiAudD_BRBXEiwAudakX0Fl5KFfQ_J0gJIJrifZ0QTLm6OYLqtUFJwDNaNUr4KXpVeBAONMuhoCWhEQAvD_BwE;+__utmc=147023400;+__utmz=147023400.1609915500.1.1.utmgclid=CjwKCAiAudD_BRBXEiwAudakX0Fl5KFfQ_J0gJIJrifZ0QTLm6OYLqtUFJwDNaNUr4KXpVeBAONMuhoCWhEQAvD_BwE|utmccn=(not%20set)|utmcmd=(not%20set)|utmctr=(not%20provided);+_gac_UA-224213-1=1.1609915500.CjwKCAiAudD_BRBXEiwAudakX0Fl5KFfQ_J0gJIJrifZ0QTLm6OYLqtUFJwDNaNUr4KXpVeBAONMuhoCWhEQAvD_BwE;+CommResultsHeaderStatusQmi=false;+CommResultsHeaderStatusHD=false;+CommResultsHeaderStatusCustom=false;+CommResultsHeaderStatusBoyl=true;+CommResultsHeaderStatusManuf=false;+_fbp=fb.1.1609915500196.1681708006;+_gac_UA-40843711-8=1.1609915500.CjwKCAiAudD_BRBXEiwAudakX0Fl5KFfQ_J0gJIJrifZ0QTLm6OYLqtUFJwDNaNUr4KXpVeBAONMuhoCWhEQAvD_BwE;+_gcl_aw=GCL.1609915501.CjwKCAiAudD_BRBXEiwAudakX0Fl5KFfQ_J0gJIJrifZ0QTLm6OYLqtUFJwDNaNUr4KXpVeBAONMuhoCWhEQAvD_BwE;+_gcl_au=1.1.937868506.1609915501;+atlasvid=%7B%22visitorid%22%3A%22e3c9fa0f-98e0-44e4-9936-6ee6cd365264%22%7D;+atlasseg_c54cc9b9eddc4937be4642ece2658c61=%7B%22referrer%22%3A%22https%3A%2F%2Fwww.google.com%2F%22%2C%22division%22%3A%22Vacaville%22%2C%22community%22%3Anull%2C%22plan%22%3Anull%2C%22source%22%3Anull%2C%22medium%22%3Anull%2C%22campaign%22%3Anull%7D;+CTAName=Search+Refinement;+atlasseg_ef0855f35fd44ed8a8096ded8879fd71=%7B%22referrer%22%3A%22https%3A%2F%2Fwww.newhomesource.com%2Fcommunity%2Fca%2Fvacaville%2Fbristowe-at-north-village-by-seeno-homes%2F148175%22%2C%22division%22%3A%22Vacaville%22%2C%22community%22%3A%22Bristowe%20at%20North%20Village%22%2C%22plan%22%3A%22Dalton%22%2C%22source%22%3Anull%2C%22medium%22%3Anull%2C%22campaign%22%3Anull%7D;+_gac_UA-40843711-4=1.1609915996.CjwKCAiAudD_BRBXEiwAudakX0Fl5KFfQ_J0gJIJrifZ0QTLm6OYLqtUFJwDNaNUr4KXpVeBAONMuhoCWhEQAvD_BwE;+splitChatMobile=Chatbot+Mobile+-B;+CTAName=Search+Action;+_gid=GA1.2.378504988.1610685925;+_gaexp=GAX1.2.nIHJjCAMQz-_pwHt6eWn2g.18710.0!MmEwGBFNRLK96py1v24YCQ.18708.2!62qMdIf-RMaAAqGWwb1rIw.18733.0;+__utma=147023400.1077430005.1609915500.1610685924.1610690330.4;+__utmt=1;+lux_uid=161069033086676317;+outbrain_cid_fetch=true;+__utmb=147023400.3.10.1610690330;+_dc_gtm_UA-40843711-1=1;+_uetsid=7b80a88056ec11ebb60315c3ab194440;+_uetvid=b27fdd004fea11ebbd71f101efc03d6c;+_dc_gtm_UA-40843711-4=1;+_gat_UA-40843711-4=1;+_gat_UA-40843711-8=1;+false=http://www.maturelivingchoices.com https://www.newhomesource.com/plan/tate-richmond-american-homes-vacaville-ca/1815293 www.newhomesource.com 200 0 0 1103 3350 109', '2021-01-15 06:00:00 W3SVC1 BDXW3 192.168.102.97 GET /communityresults/florida/fort-myers-area/lehigh-acres/brandid-4913 floorplans=true&inventory=true 80 - 54.36.149.2 HTTP/1.1 Mozilla/5.0+(compatible;+AhrefsBot/7.0;++http://ahrefs.com/robot/) - - newhomes.mlive.com 301 0 0 397 290 78', '2021-01-15 06:00:01 W3SVC1 BDXW3 192.168.102.97 POST /googleanalytics/getgoogleecommercepush - 80 - 76.246.0.90 HTTP/1.1 Mozilla/5.0+(Windows+NT+10.0;+Win64;+x64)+AppleWebKit/537.36+(KHTML,+like+Gecko)+Chrome/87.0.4280.141+Safari/537.36 ASP.NET_SessionId=bfbbb0iebuiwmhdtunldumvo;+LastMarketViewed_1=41;+Personal_1=market=41&state=CA&searchtext=Vacaville%2c+CA;+ajs_anonymous_id=%227c2d5d8a-15e7-417d-8b89-0a1b99d128fc%22;+_ga=GA1.2.1077430005.1609915500;+_gac_UA-40843711-1=1.1609915500.CjwKCAiAudD_BRBXEiwAudakX0Fl5KFfQ_J0gJIJrifZ0QTLm6OYLqtUFJwDNaNUr4KXpVeBAONMuhoCWhEQAvD_BwE;+__utmc=147023400;+__utmz=147023400.1609915500.1.1.utmgclid=CjwKCAiAudD_BRBXEiwAudakX0Fl5KFfQ_J0gJIJrifZ0QTLm6OYLqtUFJwDNaNUr4KXpVeBAONMuhoCWhEQAvD_BwE|utmccn=(not%20set)|utmcmd=(not%20set)|utmctr=(not%20provided);+_gac_UA-224213-1=1.1609915500.CjwKCAiAudD_BRBXEiwAudakX0Fl5KFfQ_J0gJIJrifZ0QTLm6OYLqtUFJwDNaNUr4KXpVeBAONMuhoCWhEQAvD_BwE;+CommResultsHeaderStatusQmi=false;+CommResultsHeaderStatusHD=false;+CommResultsHeaderStatusCustom=false;+CommResultsHeaderStatusBoyl=true;+CommResultsHeaderStatusManuf=false;+_fbp=fb.1.1609915500196.1681708006;+_gac_UA-40843711-8=1.1609915500.CjwKCAiAudD_BRBXEiwAudakX0Fl5KFfQ_J0gJIJrifZ0QTLm6OYLqtUFJwDNaNUr4KXpVeBAONMuhoCWhEQAvD_BwE;+_gcl_aw=GCL.1609915501.CjwKCAiAudD_BRBXEiwAudakX0Fl5KFfQ_J0gJIJrifZ0QTLm6OYLqtUFJwDNaNUr4KXpVeBAONMuhoCWhEQAvD_BwE;+_gcl_au=1.1.937868506.1609915501;+atlasvid=%7B%22visitorid%22%3A%22e3c9fa0f-98e0-44e4-9936-6ee6cd365264%22%7D;+atlasseg_c54cc9b9eddc4937be4642ece2658c61=%7B%22referrer%22%3A%22https%3A%2F%2Fwww.google.com%2F%22%2C%22division%22%3A%22Vacaville%22%2C%22community%22%3Anull%2C%22plan%22%3Anull%2C%22source%22%3Anull%2C%22medium%22%3Anull%2C%22campaign%22%3Anull%7D;+CTAName=Search+Refinement;+atlasseg_ef0855f35fd44ed8a8096ded8879fd71=%7B%22referrer%22%3A%22https%3A%2F%2Fwww.newhomesource.com%2Fcommunity%2Fca%2Fvacaville%2Fbristowe-at-north-village-by-seeno-homes%2F148175%22%2C%22division%22%3A%22Vacaville%22%2C%22community%22%3A%22Bristowe%20at%20North%20Village%22%2C%22plan%22%3A%22Dalton%22%2C%22source%22%3Anull%2C%22medium%22%3Anull%2C%22campaign%22%3Anull%7D;+_gac_UA-40843711-4=1.1609915996.CjwKCAiAudD_BRBXEiwAudakX0Fl5KFfQ_J0gJIJrifZ0QTLm6OYLqtUFJwDNaNUr4KXpVeBAONMuhoCWhEQAvD_BwE;+splitChatMobile=Chatbot+Mobile+-B;+CTAName=Search+Action;+_gid=GA1.2.378504988.1610685925;+_gaexp=GAX1.2.nIHJjCAMQz-_pwHt6eWn2g.18710.0!MmEwGBFNRLK96py1v24YCQ.18708.2!62qMdIf-RMaAAqGWwb1rIw.18733.0;+__utma=147023400.1077430005.1609915500.1610685924.1610690330.4;+__utmt=1;+lux_uid=161069033086676317;+outbrain_cid_fetch=true;+__utmb=147023400.3.10.1610690330;+_dc_gtm_UA-40843711-1=1;+_uetsid=7b80a88056ec11ebb60315c3ab194440;+_uetvid=b27fdd004fea11ebbd71f101efc03d6c;+_dc_gtm_UA-40843711-4=1;+_gat_UA-40843711-4=1;+_gat_UA-40843711-8=1;+false=http://www.maturelivingchoices.com https://www.newhomesource.com/plan/tate-richmond-american-homes-vacaville-ca/1815293 www.newhomesource.com 200 0 0 1103 3350 78', '2021-01-15 06:00:01 W3SVC1 BDXW3 192.168.102.97 GET /communities/oh/cincinnati-area/covington - 80 - 73.24.138.196 HTTP/1.1 Mozilla/5.0+(Macintosh;+Intel+Mac+OS+X+10_11_1)+AppleWebKit/601.2.4+(KHTML,+like+Gecko)+Version/9.0.1+Safari/601.2.4+facebookexternalhit/1.1+Facebot+Twitterbot/1.0 - - www.newhomesource.com 200 0 0 409320 443 374', '2021-01-15 06:00:01 W3SVC1 BDXW3 192.168.102.97 GET /ajax/communityresults/gettrustbuilderblockforsrp marketid=208&marketname=Dutchess%20County&state=New%20York 80 - 195.154.122.178 HTTP/1.1 Mozilla/5.0+(compatible;+AhrefsBot/7.0;++http://ahrefs.com/robot/) false=http://www.maturelivingchoices.com;+ASP.NET_SessionId=x3ozmjbe0gm15vcbkpyasp4c;+LastMarketViewed_1=208;+Personal_1=market=208&state=NY&searchtext=Dutchess+County%2c+NY;+CommResultsHeaderStatusQmi=false;+CommResultsHeaderStatusHD=false;+CommResultsHeaderStatusCustom=false;+CommResultsHeaderStatusBoyl=true;+CommResultsHeaderStatusManuf=false - www.newhomesource.com 200 0 0 713 754 281']\n"
     ]
    }
   ],
   "source": [
    "#opening the log file and splitting into lines\n",
    "file = open('/content/drive/MyDrive/Colab Notebooks/bdxw3-u_ex210115.log','r')\n",
    "lines = file.read().splitlines()\n",
    "file.close()\n",
    "print(lines[4:14])"
   ]
  },
  {
   "cell_type": "code",
   "execution_count": 5,
   "metadata": {
    "colab": {
     "base_uri": "https://localhost:8080/"
    },
    "executionInfo": {
     "elapsed": 3698,
     "status": "ok",
     "timestamp": 1612094073199,
     "user": {
      "displayName": "Reechika Jain",
      "photoUrl": "",
      "userId": "17683768411973625930"
     },
     "user_tz": -330
    },
    "id": "AtGuKY-rA5S4",
    "outputId": "29e9a8a0-77e8-4511-914e-704292077922"
   },
   "outputs": [
    {
     "name": "stdout",
     "output_type": "stream",
     "text": [
      "[['2021-01-15', '06:00:00', 'W3SVC1', 'BDXW3', '192.168.102.97', 'GET', '/plan/chauncy-lennar-kyle-tx/1801879', '-', '80', '-', '216.52.89.85', 'HTTP/1.1', 'Mozilla/5.0+(Windows;+U;+Windows+NT+5.1;+en-US;+rv:1.8.1.13)+Gecko/20080311+Firefox/2.0.0.13', 'ASP.NET_SessionId=qc3mwuvr1bdgorwqrvjre33s;+false=http://www.newretirementcommunities.com', 'http://www.google.com', 'www.newhomesource.com', '200', '0', '0', '272781', '505', '343'], ['2021-01-15', '06:00:00', 'W3SVC1', 'BDXW3', '192.168.102.97', 'POST', '/segment/response', '-', '80', '-', '76.246.0.90', 'HTTP/1.1', 'Mozilla/5.0+(Windows+NT+10.0;+Win64;+x64)+AppleWebKit/537.36+(KHTML,+like+Gecko)+Chrome/87.0.4280.141+Safari/537.36', 'ASP.NET_SessionId=bfbbb0iebuiwmhdtunldumvo;+LastMarketViewed_1=41;+Personal_1=market=41&state=CA&searchtext=Vacaville%2c+CA;+ajs_anonymous_id=%227c2d5d8a-15e7-417d-8b89-0a1b99d128fc%22;+_ga=GA1.2.1077430005.1609915500;+_gac_UA-40843711-1=1.1609915500.CjwKCAiAudD_BRBXEiwAudakX0Fl5KFfQ_J0gJIJrifZ0QTLm6OYLqtUFJwDNaNUr4KXpVeBAONMuhoCWhEQAvD_BwE;+__utmc=147023400;+__utmz=147023400.1609915500.1.1.utmgclid=CjwKCAiAudD_BRBXEiwAudakX0Fl5KFfQ_J0gJIJrifZ0QTLm6OYLqtUFJwDNaNUr4KXpVeBAONMuhoCWhEQAvD_BwE|utmccn=(not%20set)|utmcmd=(not%20set)|utmctr=(not%20provided);+_gac_UA-224213-1=1.1609915500.CjwKCAiAudD_BRBXEiwAudakX0Fl5KFfQ_J0gJIJrifZ0QTLm6OYLqtUFJwDNaNUr4KXpVeBAONMuhoCWhEQAvD_BwE;+CommResultsHeaderStatusQmi=false;+CommResultsHeaderStatusHD=false;+CommResultsHeaderStatusCustom=false;+CommResultsHeaderStatusBoyl=true;+CommResultsHeaderStatusManuf=false;+_fbp=fb.1.1609915500196.1681708006;+_gac_UA-40843711-8=1.1609915500.CjwKCAiAudD_BRBXEiwAudakX0Fl5KFfQ_J0gJIJrifZ0QTLm6OYLqtUFJwDNaNUr4KXpVeBAONMuhoCWhEQAvD_BwE;+_gcl_aw=GCL.1609915501.CjwKCAiAudD_BRBXEiwAudakX0Fl5KFfQ_J0gJIJrifZ0QTLm6OYLqtUFJwDNaNUr4KXpVeBAONMuhoCWhEQAvD_BwE;+_gcl_au=1.1.937868506.1609915501;+atlasvid=%7B%22visitorid%22%3A%22e3c9fa0f-98e0-44e4-9936-6ee6cd365264%22%7D;+atlasseg_c54cc9b9eddc4937be4642ece2658c61=%7B%22referrer%22%3A%22https%3A%2F%2Fwww.google.com%2F%22%2C%22division%22%3A%22Vacaville%22%2C%22community%22%3Anull%2C%22plan%22%3Anull%2C%22source%22%3Anull%2C%22medium%22%3Anull%2C%22campaign%22%3Anull%7D;+CTAName=Search+Refinement;+atlasseg_ef0855f35fd44ed8a8096ded8879fd71=%7B%22referrer%22%3A%22https%3A%2F%2Fwww.newhomesource.com%2Fcommunity%2Fca%2Fvacaville%2Fbristowe-at-north-village-by-seeno-homes%2F148175%22%2C%22division%22%3A%22Vacaville%22%2C%22community%22%3A%22Bristowe%20at%20North%20Village%22%2C%22plan%22%3A%22Dalton%22%2C%22source%22%3Anull%2C%22medium%22%3Anull%2C%22campaign%22%3Anull%7D;+_gac_UA-40843711-4=1.1609915996.CjwKCAiAudD_BRBXEiwAudakX0Fl5KFfQ_J0gJIJrifZ0QTLm6OYLqtUFJwDNaNUr4KXpVeBAONMuhoCWhEQAvD_BwE;+splitChatMobile=Chatbot+Mobile+-B;+CTAName=Search+Action;+_gid=GA1.2.378504988.1610685925;+_gaexp=GAX1.2.nIHJjCAMQz-_pwHt6eWn2g.18710.0!MmEwGBFNRLK96py1v24YCQ.18708.2!62qMdIf-RMaAAqGWwb1rIw.18733.0;+__utma=147023400.1077430005.1609915500.1610685924.1610690330.4;+__utmt=1;+lux_uid=161069033086676317;+outbrain_cid_fetch=true;+__utmb=147023400.3.10.1610690330;+_dc_gtm_UA-40843711-1=1;+_uetsid=7b80a88056ec11ebb60315c3ab194440;+_uetvid=b27fdd004fea11ebbd71f101efc03d6c;+_dc_gtm_UA-40843711-4=1;+_gat_UA-40843711-4=1;+_gat_UA-40843711-8=1;+false=http://www.maturelivingchoices.com', 'https://www.newhomesource.com/plan/tate-richmond-american-homes-vacaville-ca/1815293', 'www.newhomesource.com', '200', '0', '0', '490', '3254', '62'], ['2021-01-15', '06:00:00', 'W3SVC1', 'BDXW3', '192.168.102.97', 'GET', '/homeresults/florida/miami-dade-county-area/bal-harbour/page-126', '-', '80', '-', '13.66.139.99', 'HTTP/1.1', 'Mozilla/5.0+(compatible;+bingbot/2.0;++http://www.bing.com/bingbot.htm)', '-', '-', 'newhomes.nj.com', '301', '0', '0', '362', '358', '62'], ['2021-01-15', '06:00:00', 'W3SVC11', 'BDXW3', '192.168.102.97', 'GET', '/miami/communityresults/getpreview', 'Type=C&Status=G&Id=149806&showFeedBack=false&clientId=0&_=1610690357939', '80', '-', '23.122.96.57', 'HTTP/1.1', 'Mozilla/5.0+(Windows+NT+10.0;+Win64;+x64)+AppleWebKit/537.36+(KHTML,+like+Gecko)+Chrome/86.0.4240.75+Safari/537.36', 'SsoUserAttributes_9016=FirstName,+LastName,+Email,+AgencyName;+Profile_9016={13386112-12dd-4082-a6b0-c50739c7598a};+_ga=GA1.2.1587936588.1609700564;+_fbp=fb.1.1609700564725.981923011;+_hjid=22a6e95d-46bb-44d2-be51-aa0778d49771;+_gu=c7dc164c-70c2-407c-b84b-39b708fad067;+HideEngageYourClients_9016=True;+ASP.NET_SessionId=85d2c2e1-5fa1-44aa-8eff-af723a6b87d8;+_gid=GA1.2.902112610.1610689412;+__utma=214516104.1587936588.1609700564.1609700565.1610689413.2;+__utmc=214516104;+__utmz=214516104.1610689413.2.2.utmcsr=sef.clareityiam.net|utmccn=(referral)|utmcmd=referral|utmcct=/;+_hjIncludedInPageviewSample=1;+_hjTLDTest=1;+_hjAbsoluteSessionInProgress=0;+_gs=2.s(src%3Dhttps%3A%2F%2Fwww.newhomesourceprofessional.com%2Fmiami);+_gat_UA-40843711-3=1;+_gw=2.u%5B%2C%2C%2C%2C%5Dv%5B~fzdlz%2C~5%2C~1%5Da();+__utmb=214516104.34.8.1610690358391;+_gat_UA-73436-17=1', 'https://www.newhomesourceprofessional.com/miami/communities/florida/broward-county-ft.-lauderdale/', 'www.newhomesourceprofessional.com', '200', '0', '0', '13516', '1502', '62'], ['2021-01-15', '06:00:00', 'W3SVC1', 'BDXW3', '192.168.102.97', 'GET', '/communities/ny/dutchess-county-area/dutchess-county', '-', '80', '-', '195.154.122.178', 'HTTP/1.1', 'Mozilla/5.0+(compatible;+AhrefsBot/7.0;++http://ahrefs.com/robot/)', '-', '-', 'www.newhomesource.com', '200', '0', '0', '311532', '387', '296']]\n"
     ]
    }
   ],
   "source": [
    "#splitting lines into fields\n",
    "columns = [];\n",
    "for line in lines[4:]:\n",
    "    if not line:\n",
    "        continue\n",
    "    columns.append([col.strip() for col in line.split(' ') if col])\n",
    "print(columns[0:5])\n"
   ]
  },
  {
   "cell_type": "code",
   "execution_count": 57,
   "metadata": {
    "colab": {
     "base_uri": "https://localhost:8080/"
    },
    "executionInfo": {
     "elapsed": 3208,
     "status": "ok",
     "timestamp": 1612101142113,
     "user": {
      "displayName": "Reechika Jain",
      "photoUrl": "",
      "userId": "17683768411973625930"
     },
     "user_tz": -330
    },
    "id": "5DG7ay8zBHEm",
    "outputId": "ec18161d-d011-4c6f-9acf-d48c8d27e0ab"
   },
   "outputs": [
    {
     "name": "stdout",
     "output_type": "stream",
     "text": [
      "370655\n",
      "         date      time s-sitename  ... sc-bytes cs-bytes time-taken\n",
      "0  2021-01-15  06:00:00     W3SVC1  ...   272781      505        343\n",
      "1  2021-01-15  06:00:00     W3SVC1  ...      490     3254         62\n",
      "2  2021-01-15  06:00:00     W3SVC1  ...      362      358         62\n",
      "3  2021-01-15  06:00:00    W3SVC11  ...    13516     1502         62\n",
      "4  2021-01-15  06:00:00     W3SVC1  ...   311532      387        296\n",
      "\n",
      "[5 rows x 22 columns]\n"
     ]
    }
   ],
   "source": [
    "#splitting fields into rows and cols\n",
    "import pandas as pd\n",
    "logData = pd.DataFrame(columns)\n",
    "logData.columns = ['date','time','s-sitename','s-computername','s-ip','cs-method','cs-uri-stem','cs-uri-query','s-port','cs-username',\n",
    "                   'c-ip','cs-version','cs(User-Agent)','cs(Cookie)','cs(Referer)','cs-host','sc-status','sc-substatus','sc-win32-status',\n",
    "                   'sc-bytes','cs-bytes','time-taken']\n",
    "print(len(logData))\n",
    "print(logData[0:5])\n",
    "\n"
   ]
  },
  {
   "cell_type": "code",
   "execution_count": 62,
   "metadata": {
    "colab": {
     "base_uri": "https://localhost:8080/"
    },
    "executionInfo": {
     "elapsed": 2573,
     "status": "ok",
     "timestamp": 1612101404998,
     "user": {
      "displayName": "Reechika Jain",
      "photoUrl": "",
      "userId": "17683768411973625930"
     },
     "user_tz": -330
    },
    "id": "oSvA1TRBOrnu",
    "outputId": "3172d2a3-d80b-46e5-eee5-45d6cd18fab7"
   },
   "outputs": [
    {
     "name": "stdout",
     "output_type": "stream",
     "text": [
      "['2021-01-15']\n",
      "['06:00:00' '06:00:01' '06:00:02' ... '17:39:22' '17:39:23' '17:39:24']\n",
      "['W3SVC1' 'W3SVC11' 'W3SVC7' 'W3SVC14' 'W3SVC27' 'W3SVC5' 'W3SVC4'\n",
      " 'W3SVC18' 'W3SVC9' 'W3SVC12' 'W3SVC23' 'W3SVC3' 'W3SVC24']\n",
      "['BDXW3']\n",
      "['192.168.102.97' '192.168.103.97']\n",
      "['GET' 'POST' 'HEAD' 'OPTIONS']\n",
      "['/plan/chauncy-lennar-kyle-tx/1801879' '/segment/response'\n",
      " '/homeresults/florida/miami-dade-county-area/bal-harbour/page-126' ...\n",
      " '/homes/fl/daytona-beach-area/32124/page-35'\n",
      " '/plandetail/106-aberdeen-boerne-tx-78015/1539892'\n",
      " '/plan/beachwood-k-hovnanian-homes-build-on-your-lot-sunbury-oh/1614901']\n",
      "['-'\n",
      " 'Type=C&Status=G&Id=149806&showFeedBack=false&clientId=0&_=1610690357939'\n",
      " 'floorplans=true&inventory=true' ... '_=1610728501233' '_=1610639738176'\n",
      " '_=1610682931242']\n",
      "['80']\n",
      "['-']\n",
      "['216.52.89.85' '76.246.0.90' '13.66.139.99' ... '99.191.120.165'\n",
      " '106.38.241.100' '47.208.241.118']\n",
      "['HTTP/1.1' 'HTTP/1.0']\n",
      "['Mozilla/5.0+(Windows;+U;+Windows+NT+5.1;+en-US;+rv:1.8.1.13)+Gecko/20080311+Firefox/2.0.0.13'\n",
      " 'Mozilla/5.0+(Windows+NT+10.0;+Win64;+x64)+AppleWebKit/537.36+(KHTML,+like+Gecko)+Chrome/87.0.4280.141+Safari/537.36'\n",
      " 'Mozilla/5.0+(compatible;+bingbot/2.0;++http://www.bing.com/bingbot.htm)'\n",
      " ...\n",
      " 'Mozilla/5.0+(X11;+Linux+x86_64)+AppleWebKit/537.36+(KHTML,+like+Gecko)+Chrome/80.0.3987.0+Safari/537.36'\n",
      " 'python-requests/2.24.0'\n",
      " 'Mozilla/5.0+(iPhone;+CPU+iPhone+OS+12_4_6+like+Mac+OS+X)+AppleWebKit/605.1.15+(KHTML,+like+Gecko)+Version/12.1.2+Mobile/15E148+Safari/604.1']\n",
      "['ASP.NET_SessionId=qc3mwuvr1bdgorwqrvjre33s;+false=http://www.newretirementcommunities.com'\n",
      " 'ASP.NET_SessionId=bfbbb0iebuiwmhdtunldumvo;+LastMarketViewed_1=41;+Personal_1=market=41&state=CA&searchtext=Vacaville%2c+CA;+ajs_anonymous_id=%227c2d5d8a-15e7-417d-8b89-0a1b99d128fc%22;+_ga=GA1.2.1077430005.1609915500;+_gac_UA-40843711-1=1.1609915500.CjwKCAiAudD_BRBXEiwAudakX0Fl5KFfQ_J0gJIJrifZ0QTLm6OYLqtUFJwDNaNUr4KXpVeBAONMuhoCWhEQAvD_BwE;+__utmc=147023400;+__utmz=147023400.1609915500.1.1.utmgclid=CjwKCAiAudD_BRBXEiwAudakX0Fl5KFfQ_J0gJIJrifZ0QTLm6OYLqtUFJwDNaNUr4KXpVeBAONMuhoCWhEQAvD_BwE|utmccn=(not%20set)|utmcmd=(not%20set)|utmctr=(not%20provided);+_gac_UA-224213-1=1.1609915500.CjwKCAiAudD_BRBXEiwAudakX0Fl5KFfQ_J0gJIJrifZ0QTLm6OYLqtUFJwDNaNUr4KXpVeBAONMuhoCWhEQAvD_BwE;+CommResultsHeaderStatusQmi=false;+CommResultsHeaderStatusHD=false;+CommResultsHeaderStatusCustom=false;+CommResultsHeaderStatusBoyl=true;+CommResultsHeaderStatusManuf=false;+_fbp=fb.1.1609915500196.1681708006;+_gac_UA-40843711-8=1.1609915500.CjwKCAiAudD_BRBXEiwAudakX0Fl5KFfQ_J0gJIJrifZ0QTLm6OYLqtUFJwDNaNUr4KXpVeBAONMuhoCWhEQAvD_BwE;+_gcl_aw=GCL.1609915501.CjwKCAiAudD_BRBXEiwAudakX0Fl5KFfQ_J0gJIJrifZ0QTLm6OYLqtUFJwDNaNUr4KXpVeBAONMuhoCWhEQAvD_BwE;+_gcl_au=1.1.937868506.1609915501;+atlasvid=%7B%22visitorid%22%3A%22e3c9fa0f-98e0-44e4-9936-6ee6cd365264%22%7D;+atlasseg_c54cc9b9eddc4937be4642ece2658c61=%7B%22referrer%22%3A%22https%3A%2F%2Fwww.google.com%2F%22%2C%22division%22%3A%22Vacaville%22%2C%22community%22%3Anull%2C%22plan%22%3Anull%2C%22source%22%3Anull%2C%22medium%22%3Anull%2C%22campaign%22%3Anull%7D;+CTAName=Search+Refinement;+atlasseg_ef0855f35fd44ed8a8096ded8879fd71=%7B%22referrer%22%3A%22https%3A%2F%2Fwww.newhomesource.com%2Fcommunity%2Fca%2Fvacaville%2Fbristowe-at-north-village-by-seeno-homes%2F148175%22%2C%22division%22%3A%22Vacaville%22%2C%22community%22%3A%22Bristowe%20at%20North%20Village%22%2C%22plan%22%3A%22Dalton%22%2C%22source%22%3Anull%2C%22medium%22%3Anull%2C%22campaign%22%3Anull%7D;+_gac_UA-40843711-4=1.1609915996.CjwKCAiAudD_BRBXEiwAudakX0Fl5KFfQ_J0gJIJrifZ0QTLm6OYLqtUFJwDNaNUr4KXpVeBAONMuhoCWhEQAvD_BwE;+splitChatMobile=Chatbot+Mobile+-B;+CTAName=Search+Action;+_gid=GA1.2.378504988.1610685925;+_gaexp=GAX1.2.nIHJjCAMQz-_pwHt6eWn2g.18710.0!MmEwGBFNRLK96py1v24YCQ.18708.2!62qMdIf-RMaAAqGWwb1rIw.18733.0;+__utma=147023400.1077430005.1609915500.1610685924.1610690330.4;+__utmt=1;+lux_uid=161069033086676317;+outbrain_cid_fetch=true;+__utmb=147023400.3.10.1610690330;+_dc_gtm_UA-40843711-1=1;+_uetsid=7b80a88056ec11ebb60315c3ab194440;+_uetvid=b27fdd004fea11ebbd71f101efc03d6c;+_dc_gtm_UA-40843711-4=1;+_gat_UA-40843711-4=1;+_gat_UA-40843711-8=1;+false=http://www.maturelivingchoices.com'\n",
      " '-' ...\n",
      " 'ASP.NET_SessionId=hpx1add2e3cjanhpdfzz2fi3;+LastMarketViewed_1=35;+__utmc=147023400;+CommResultsHeaderStatusQmi=false;+CommResultsHeaderStatusHD=false;+CommResultsHeaderStatusCustom=false;+CommResultsHeaderStatusBoyl=true;+CommResultsHeaderStatusManuf=false;+_ga=GA1.2.1895093436.1609558473;+ajs_anonymous_id=%220a1cf639-4593-4b76-9aca-424a16a67fb6%22;+_fbp=fb.1.1609558473471.1990617846;+_gcl_au=1.1.1915016427.1609558474;+atlasvid=%7B%22visitorid%22%3A%226f1eeb89-b5f1-41d6-8770-a21c5f4456fa%22%7D;+atlasseg_c54cc9b9eddc4937be4642ece2658c61=%7B%22referrer%22%3A%22https%3A%2F%2Fwww.google.com%2F%22%2C%22division%22%3A%22Gilroy%22%2C%22community%22%3Anull%2C%22plan%22%3Anull%2C%22source%22%3Anull%2C%22medium%22%3Anull%2C%22campaign%22%3Anull%7D;+atlasseg_ef0855f35fd44ed8a8096ded8879fd71=%7B%22referrer%22%3A%22https%3A%2F%2Fwww.newhomesource.com%2Fhomes%2Fca%2Fsan-jose-area%2Fgilroy%22%2C%22division%22%3A%22Gilroy%22%2C%22community%22%3A%22Noir%20at%20Glen%20Loma%20Ranch%22%2C%22plan%22%3A%22Residence%203%22%2C%22source%22%3Anull%2C%22medium%22%3Anull%2C%22campaign%22%3Anull%7D;+Personal_1=market=35&state=CA&searchtext=San+Jose%2c+CA+Area;+__utma=147023400.1895093436.1609558473.1609558473.1610732319.2;+__utmz=147023400.1610732319.2.2.utmcsr=google|utmccn=(organic)|utmcmd=organic|utmctr=(not%20provided);+__utmt=1;+_gid=GA1.2.165641007.1610732320;+_dc_gtm_UA-40843711-1=1;+_dc_gtm_UA-40843711-4=1;+_gat_UA-40843711-4=1;+_gat_UA-40843711-8=1;+_gaexp=GAX1.2.nIHJjCAMQz-_pwHt6eWn2g.18710.0!MmEwGBFNRLK96py1v24YCQ.18708.2!62qMdIf-RMaAAqGWwb1rIw.18733.0;+lux_uid=161073232112552331;+outbrain_cid_fetch=true;+__utmb=147023400.2.10.1610732319;+_uetsid=80ece8d0575811eb8665df866f20e2b2;+_uetvid=6dfc78f04cab11eb81402d39f5a6267d;+false=http://www.maturelivingchoices.com'\n",
      " 'ASP.NET_SessionId=frvojp2zdr5dvbzq5hnmhbcy;+__utmc=147023400;+CommResultsHeaderStatusHD=false;+CommResultsHeaderStatusQmi=false;+CommResultsHeaderStatusManuf=false;+CommResultsHeaderStatusBoyl=true;+CommResultsHeaderStatusCustom=false;+ajs_anonymous_id=%22e8e5f855-dfd3-4a4d-ae69-aa13105f765f%22;+_ga=GA1.2.1205853730.1610727212;+_gid=GA1.2.1230506393.1610727213;+_fbp=fb.1.1610727212848.422820917;+_gcl_au=1.1.1750086199.1610727214;+atlasvid=%7B%22visitorid%22%3A%221010eae8-c17a-4f72-a37b-f72b76b6d562%22%7D;+atlasseg_ef0855f35fd44ed8a8096ded8879fd71=%7B%22referrer%22%3A%22https%3A%2F%2Fwww.google.com%2F%22%2C%22division%22%3A%22Ave%20Maria%22%2C%22community%22%3Anull%2C%22plan%22%3Anull%2C%22source%22%3Anull%2C%22medium%22%3Anull%2C%22campaign%22%3Anull%7D;+_gaexp=GAX1.2.nIHJjCAMQz-_pwHt6eWn2g.18710.0!62qMdIf-RMaAAqGWwb1rIw.18733.0!MmEwGBFNRLK96py1v24YCQ.18708.1!NtaOfZqwRGWgDJyvstJnkw.18685.2;+atlasseg_c54cc9b9eddc4937be4642ece2658c61=%7B%22referrer%22%3A%22https%3A%2F%2Fwww.newhomesource.com%2Fcommunities%2Ffl%2Fnaples-area%2Fave-maria%2Fpage-2%22%2C%22division%22%3A%22Lehigh%20Acres%22%2C%22community%22%3A%22Vistanna%20Villas%22%2C%22plan%22%3Anull%2C%22source%22%3Anull%2C%22medium%22%3Anull%2C%22campaign%22%3Anull%7D;+CTAName=Search+Refinement;+LastMarketViewed_1=64;+Personal_1=market=64&state=FL&searchtext=Fort+Myers%2c+FL;+lux_uid=161073235862810525;+__utma=147023400.1205853730.1610727212.1610727275.1610732359.3;+__utmz=147023400.1610732359.3.3.utmgclid=CjwKCAiAl4WABhAJEiwATUnEFxmaveuwOL5f0LXs-gOXMFjsDQiHsrjsOIc9yA956oGahpTkLpni-BoC4TIQAvD_BwE|utmccn=(not%20set)|utmcmd=(not%20set)|utmctr=(not%20provided);+_gac_UA-224213-1=1.1610727212.CjwKCAiAl4WABhAJEiwATUnEFxmaveuwOL5f0LXs-gOXMFjsDQiHsrjsOIc9yA956oGahpTkLpni-BoC4TIQAvD_BwE;+__utmt=1;+__utmb=147023400.1.10.1610732359;+_gac_UA-40843711-1=1.1610732359.CjwKCAiAl4WABhAJEiwATUnEFxmaveuwOL5f0LXs-gOXMFjsDQiHsrjsOIc9yA956oGahpTkLpni-BoC4TIQAvD_BwE;+_dc_gtm_UA-40843711-1=1;+_uetsid=9ce48ce0574c11eb85b3bf7ffc49cbc5;+_uetvid=9ce4e610574c11eb9a1c5b2338ce903a;+_dc_gtm_UA-40843711-4=1;+_gac_UA-40843711-4=1.1610732360.CjwKCAiAl4WABhAJEiwATUnEFxmaveuwOL5f0LXs-gOXMFjsDQiHsrjsOIc9yA956oGahpTkLpni-BoC4TIQAvD_BwE;+_gat_UA-40843711-4=1;+_gac_UA-40843711-8=1.1610732360.CjwKCAiAl4WABhAJEiwATUnEFxmaveuwOL5f0LXs-gOXMFjsDQiHsrjsOIc9yA956oGahpTkLpni-BoC4TIQAvD_BwE;+_gat_UA-40843711-8=1;+_gcl_aw=GCL.1610732360.CjwKCAiAl4WABhAJEiwATUnEFxmaveuwOL5f0LXs-gOXMFjsDQiHsrjsOIc9yA956oGahpTkLpni-BoC4TIQAvD_BwE;+false=http://www.maturelivingchoices.com'\n",
      " 'SsoUserAttributes_607=FirstName,+LastName,+Email;+_ga=GA1.2.1081931995.1607962014;+_fbp=fb.1.1607962013653.800412488;+_hjid=c3ac6da5-d3e3-4938-a6db-4da3c86d7509;+_gu=43783f9d-73eb-4ea3-9c83-26d77b06bed9;+HideEngageYourClients_607=True;+ASP.NET_SessionId=456f4be2-1851-4321-a3d9-9ed748d0ce7d;+Profile_607={ca0854dd-d528-47a0-b8c1-4cec3e152aa2};+_gid=GA1.2.1670539933.1610732305;+_gat_UA-40843711-3=1;+__utma=214516104.1081931995.1607962014.1607962014.1610732305.2;+__utmc=214516104;+__utmz=214516104.1610732305.2.2.utmcsr=okta.brightmls.com|utmccn=(referral)|utmcmd=referral|utmcct=/;+_hjIncludedInPageviewSample=1;+_hjTLDTest=1;+_hjAbsoluteSessionInProgress=0;+_gat_UA-73436-17=1;+_gw=2.u%5B%2C%2C%2C%2C%5Dv%5B~fze5e%2C~0%2C~1%5Da();+_gs=2.s(src%3Dhttps%3A%2F%2Fwww.newhomesourceprofessional.com%2Fbrightmls);+__utmb=214516104.3.8.1610732329636;+_gat_UA-40843711-4=1']\n",
      "['http://www.google.com'\n",
      " 'https://www.newhomesource.com/plan/tate-richmond-american-homes-vacaville-ca/1815293'\n",
      " '-' ...\n",
      " 'https://www.newhomesource.com/builder/charter-homes-neighborhoods/about/4511'\n",
      " 'https://www.newhomesource.com/homes/ca/sacramento-area/meadow-vista'\n",
      " 'https://www.newhomesource.com/builder/bruce-paparone-inc/about/7378']\n",
      "['www.newhomesource.com' 'newhomes.nj.com'\n",
      " 'www.newhomesourceprofessional.com' 'newhomes.mlive.com'\n",
      " 'newhomes.masslive.com' 'newhomes.pennlive.com'\n",
      " 'newhomes.lehighvalleylive.com' 'svc.newhomesource.com'\n",
      " 'www.showingnew.com' 'newhomes.reviewjournal.com'\n",
      " 'www.casasnuevasaqui.com' 'newhomes.syracuse.com'\n",
      " 'newhomes.cleveland.com' 'newhomes.advance.net' 'www.homebuilder.ca'\n",
      " 'www.thebdxlive.com' 'newhomes.al.com' 'newhomes.oregonlive.com'\n",
      " 'resources.newhomesourceprofessional.com' 'newhomes.gulflive.com'\n",
      " 'newhomes.silive.com' 'www.homebuilder.com' 'www.newhomelistings.com'\n",
      " 'beta.thebdxlive.com' 'shoppingkit.newhomesource.com' 'newhomesource.com'\n",
      " '216.142.204.16' 'reports.thebdxlive.com'\n",
      " 'www.newretirementcommunities.com' 'newhomesourceprofessional.com'\n",
      " 'casasnuevasaqui.com' '-' '216.142.204.19' 'thebdxlive.com'\n",
      " 'showingnew.com' 'www.NewHomeSourceProfessional.com'\n",
      " 'www.customnewhomes.com' 'www.newhomesource.com:80'\n",
      " 'www.newhomesourcepro.com' '216.142.204.19:80' 'homebuilder.com'\n",
      " 'www.newhomesource.com:443' 'partners.newhomesource.com'\n",
      " 'www3.newhomesource.com' '216.142.204.16:80' 'ftp.showingnew.com'\n",
      " 'resources-shoppingkit.newhomesource.com' 'mirror-reports.thebdxlive.com'\n",
      " 'nhspro.com' 'newhomesourcepro.com' 'www.casasnuevasaqui.com:80'\n",
      " 'NewHomeSourceProfessional.com']\n",
      "['200' '301' '302' '404' '304' '410' '204' '500' '406' '206' '403']\n",
      "['0' '11' '17']\n",
      "['0' '2' '64' '995' '22' '50']\n",
      "['272781' '490' '362' ... '211311' '292' '257763']\n",
      "['505' '3254' '358' ... '7984' '171614' '9419']\n",
      "['343' '62' '296' ... '302' '1680' '9418']\n"
     ]
    }
   ],
   "source": [
    "#start performing eda on splitted logData\n",
    "for col in logData :\n",
    "    print(logData[col].unique())\n",
    "\n"
   ]
  },
  {
   "cell_type": "code",
   "execution_count": 101,
   "metadata": {
    "colab": {
     "base_uri": "https://localhost:8080/"
    },
    "executionInfo": {
     "elapsed": 1064,
     "status": "ok",
     "timestamp": 1612104516714,
     "user": {
      "displayName": "Reechika Jain",
      "photoUrl": "",
      "userId": "17683768411973625930"
     },
     "user_tz": -330
    },
    "id": "BDmRjO8JUbt8",
    "outputId": "01f384de-2983-4d44-ce72-ca58f46db5fd"
   },
   "outputs": [
    {
     "name": "stdout",
     "output_type": "stream",
     "text": [
      "          c-ip\n",
      "time          \n",
      "15:27:38    92\n",
      "15:27:39    81\n",
      "15:27:34    81\n",
      "15:28:27    77\n",
      "15:27:36    76\n",
      "...        ...\n",
      "09:08:28     1\n",
      "09:09:59     1\n",
      "07:03:41     1\n",
      "10:50:03     1\n",
      "10:57:15     1\n",
      "\n",
      "[37121 rows x 1 columns]\n"
     ]
    }
   ],
   "source": [
    "#slicing time and c-ip for insights on relationship between time and load on server \n",
    "filterLogData = logData[['time','c-ip']]\n",
    "                      \n",
    "#grouping by time at which the activity occurred\n",
    "maxLoad = filterLogData.groupby(['time']).count()\n",
    "\n",
    "#finding the time at which server faces the max load\n",
    "maxLoad = maxLoad.sort_values('c-ip',ascending=False)\n",
    "print(maxLoad)\n",
    "\n"
   ]
  },
  {
   "cell_type": "code",
   "execution_count": 148,
   "metadata": {
    "colab": {
     "base_uri": "https://localhost:8080/"
    },
    "executionInfo": {
     "elapsed": 2837,
     "status": "ok",
     "timestamp": 1612112660156,
     "user": {
      "displayName": "Reechika Jain",
      "photoUrl": "",
      "userId": "17683768411973625930"
     },
     "user_tz": -330
    },
    "id": "sYI2AYK4gW_u",
    "outputId": "40d9e02b-0e23-47b7-d066-c70b2078a259"
   },
   "outputs": [
    {
     "name": "stdout",
     "output_type": "stream",
     "text": [
      "conclusion 1 : the server BDX3 faces max amount of load at 15:27:38 UTC\n"
     ]
    }
   ],
   "source": [
    "print(\"conclusion 1 : the server BDX3 faces max amount of load at 15:27:38 UTC\")"
   ]
  },
  {
   "cell_type": "code",
   "execution_count": 109,
   "metadata": {
    "colab": {
     "base_uri": "https://localhost:8080/"
    },
    "executionInfo": {
     "elapsed": 1097,
     "status": "ok",
     "timestamp": 1612105251339,
     "user": {
      "displayName": "Reechika Jain",
      "photoUrl": "",
      "userId": "17683768411973625930"
     },
     "user_tz": -330
    },
    "id": "Nrxb4gEUlaUo",
    "outputId": "bd697f56-0a06-49c3-9ef4-6a43b878b2c3"
   },
   "outputs": [
    {
     "name": "stdout",
     "output_type": "stream",
     "text": [
      "                   c-ip                                     cs(User-Agent)\n",
      "0          216.52.89.85  Mozilla/5.0+(Windows;+U;+Windows+NT+5.1;+en-US...\n",
      "1           76.246.0.90  Mozilla/5.0+(Windows+NT+10.0;+Win64;+x64)+Appl...\n",
      "2          13.66.139.99  Mozilla/5.0+(compatible;+bingbot/2.0;++http://...\n",
      "3          23.122.96.57  Mozilla/5.0+(Windows+NT+10.0;+Win64;+x64)+Appl...\n",
      "4       195.154.122.178  Mozilla/5.0+(compatible;+AhrefsBot/7.0;++http:...\n",
      "...                 ...                                                ...\n",
      "370547  165.212.146.203  Mozilla/5.0+(Windows+NT+10.0;+Win64;+x64)+Appl...\n",
      "370556    76.176.54.106  Mozilla/5.0+(iPhone;+CPU+iPhone+OS+14_2+like+M...\n",
      "370563   99.191.120.165  Mozilla/5.0+(iPhone;+CPU+iPhone+OS+14_3+like+M...\n",
      "370601   106.38.241.100  Sogou+web+spider/4.0(+http://www.sogou.com/doc...\n",
      "370608   47.208.241.118  Mozilla/5.0+(Macintosh;+Intel+Mac+OS+X+10_15_6...\n",
      "\n",
      "[23781 rows x 2 columns]\n"
     ]
    }
   ],
   "source": [
    "#slicing cs(user-agent) and c-ip for insights about user devices\n",
    "userDevices = logData[['c-ip','cs(User-Agent)']]\n",
    "userDevices = userDevices.drop_duplicates(subset = 'c-ip')\n",
    "print(userDevices)\n"
   ]
  },
  {
   "cell_type": "code",
   "execution_count": 95,
   "metadata": {
    "colab": {
     "base_uri": "https://localhost:8080/"
    },
    "executionInfo": {
     "elapsed": 3761,
     "status": "ok",
     "timestamp": 1612103531636,
     "user": {
      "displayName": "Reechika Jain",
      "photoUrl": "",
      "userId": "17683768411973625930"
     },
     "user_tz": -330
    },
    "id": "A-Bua-a7xsyk",
    "outputId": "56e2bc6a-c983-429d-ab64-e5a196646423"
   },
   "outputs": [
    {
     "name": "stdout",
     "output_type": "stream",
     "text": [
      "Requirement already satisfied: pyyaml in /usr/local/lib/python3.6/dist-packages (3.13)\n",
      "Requirement already satisfied: ua-parser in /usr/local/lib/python3.6/dist-packages (0.10.0)\n",
      "Requirement already satisfied: user-agents in /usr/local/lib/python3.6/dist-packages (2.2.0)\n"
     ]
    }
   ],
   "source": [
    "\n",
    "!pip install pyyaml ua-parser user-agents\n",
    "\n"
   ]
  },
  {
   "cell_type": "code",
   "execution_count": 112,
   "metadata": {
    "colab": {
     "base_uri": "https://localhost:8080/"
    },
    "executionInfo": {
     "elapsed": 21687,
     "status": "ok",
     "timestamp": 1612105383251,
     "user": {
      "displayName": "Reechika Jain",
      "photoUrl": "",
      "userId": "17683768411973625930"
     },
     "user_tz": -330
    },
    "id": "Onfin1E00Ien",
    "outputId": "8d4f2d8a-69cd-48d5-9321-cef762244471"
   },
   "outputs": [
    {
     "name": "stdout",
     "output_type": "stream",
     "text": [
      "                   c-ip        browser        os\n",
      "0          216.52.89.85        Firefox   Windows\n",
      "1           76.246.0.90         Chrome   Windows\n",
      "2          13.66.139.99        bingbot     Other\n",
      "3          23.122.96.57         Chrome   Windows\n",
      "4       195.154.122.178      AhrefsBot     Other\n",
      "...                 ...            ...       ...\n",
      "370547  165.212.146.203         Chrome   Windows\n",
      "370556    76.176.54.106  Mobile Safari       iOS\n",
      "370563   99.191.120.165  Mobile Safari       iOS\n",
      "370601   106.38.241.100         spider     Other\n",
      "370608   47.208.241.118         Safari  Mac OS X\n",
      "\n",
      "[23781 rows x 3 columns]\n"
     ]
    }
   ],
   "source": [
    "from user_agents import parse\n",
    "\n",
    "#splitting user agent column into browser and os  column\n",
    "browser = []\n",
    "os = []\n",
    "for idx,row in userDevices.iterrows() :\n",
    "    ua_string = row['cs(User-Agent)']\n",
    "    user_agent = parse(ua_string)\n",
    "    browser.append(user_agent.browser.family)\n",
    "    os.append(user_agent.os.family)\n",
    "\n",
    "userDevices['browser']=browser\n",
    "userDevices['os'] = os\n",
    "del userDevices['cs(User-Agent)']\n",
    "print(userDevices)\n",
    "    "
   ]
  },
  {
   "cell_type": "code",
   "execution_count": 113,
   "metadata": {
    "colab": {
     "base_uri": "https://localhost:8080/"
    },
    "executionInfo": {
     "elapsed": 1031,
     "status": "ok",
     "timestamp": 1612105669959,
     "user": {
      "displayName": "Reechika Jain",
      "photoUrl": "",
      "userId": "17683768411973625930"
     },
     "user_tz": -330
    },
    "id": "mYzfc0Qe-Hr5",
    "outputId": "72e2b3df-2740-471e-f30a-65bb088fca13"
   },
   "outputs": [
    {
     "name": "stdout",
     "output_type": "stream",
     "text": [
      "                            c-ip\n",
      "browser                         \n",
      "Chrome                      7195\n",
      "Mobile Safari               6118\n",
      "PetalBot                    1980\n",
      "Safari                      1683\n",
      "Mobile Safari UI/WKWebView   857\n",
      "...                          ...\n",
      "SemanticScholarBot             1\n",
      "Snapchat                       1\n",
      "TestBot                        1\n",
      "TinEye-bot                     1\n",
      "veoozbot                       1\n",
      "\n",
      "[119 rows x 1 columns]\n"
     ]
    }
   ],
   "source": [
    "#group userDevices by browser\n",
    "filterBrowser = userDevices[['c-ip','browser']]\n",
    "maxUsedBrowser = filterBrowser.groupby(['browser']).count().sort_values('c-ip',ascending = False)\n",
    "print(maxUsedBrowser)\n"
   ]
  },
  {
   "cell_type": "code",
   "execution_count": 115,
   "metadata": {
    "colab": {
     "base_uri": "https://localhost:8080/"
    },
    "executionInfo": {
     "elapsed": 1095,
     "status": "ok",
     "timestamp": 1612105770401,
     "user": {
      "displayName": "Reechika Jain",
      "photoUrl": "",
      "userId": "17683768411973625930"
     },
     "user_tz": -330
    },
    "id": "brsfNnwo_Noi",
    "outputId": "d2fc0c00-5b61-4b77-ad50-868f57434e8c"
   },
   "outputs": [
    {
     "name": "stdout",
     "output_type": "stream",
     "text": [
      "          c-ip\n",
      "os            \n",
      "iOS       7879\n",
      "Windows   5341\n",
      "Android   4829\n",
      "Mac OS X  3163\n",
      "Other     2315\n",
      "Linux      227\n",
      "Ubuntu      24\n",
      "Fedora       1\n",
      "FreeBSD      1\n",
      "Gentoo       1\n"
     ]
    }
   ],
   "source": [
    "#group userDevices by os\n",
    "filterOS = userDevices[['c-ip','os']]\n",
    "maxUsedOS = filterOS.groupby(['os']).count().sort_values('c-ip',ascending = False)\n",
    "print(maxUsedOS)"
   ]
  },
  {
   "cell_type": "code",
   "execution_count": 149,
   "metadata": {
    "colab": {
     "base_uri": "https://localhost:8080/"
    },
    "executionInfo": {
     "elapsed": 2398,
     "status": "ok",
     "timestamp": 1612112678522,
     "user": {
      "displayName": "Reechika Jain",
      "photoUrl": "",
      "userId": "17683768411973625930"
     },
     "user_tz": -330
    },
    "id": "iweu4kTZ_jeL",
    "outputId": "e16ae209-8c45-4294-9b7c-ee76fe0086d6"
   },
   "outputs": [
    {
     "name": "stdout",
     "output_type": "stream",
     "text": [
      "conclusion 2 : max used browser and os are Chrome and iOS respectively\n"
     ]
    }
   ],
   "source": [
    "print(\"conclusion 2 : max used browser and os are Chrome and iOS respectively\")"
   ]
  },
  {
   "cell_type": "code",
   "execution_count": 117,
   "metadata": {
    "colab": {
     "base_uri": "https://localhost:8080/"
    },
    "executionInfo": {
     "elapsed": 5674,
     "status": "ok",
     "timestamp": 1612106797246,
     "user": {
      "displayName": "Reechika Jain",
      "photoUrl": "",
      "userId": "17683768411973625930"
     },
     "user_tz": -330
    },
    "id": "b-Im0w7NAKuV",
    "outputId": "f58f0e5c-b7a0-48cd-e79f-eea524f7d575"
   },
   "outputs": [
    {
     "name": "stdout",
     "output_type": "stream",
     "text": [
      "Collecting http_status\n",
      "  Downloading https://files.pythonhosted.org/packages/ec/8c/5cab8324b77a4571d6b3335ab6d08c5b312d2b3ce25c95abc14762be4979/http-status-1.0.0.tar.gz\n",
      "Building wheels for collected packages: http-status\n",
      "  Building wheel for http-status (setup.py) ... \u001b[?25l\u001b[?25hdone\n",
      "  Created wheel for http-status: filename=http_status-1.0.0-cp36-none-any.whl size=15597 sha256=e7e2b0a3469fdee8440c67312d3018e0c3151d49525b41db3ddfd90d3c002791\n",
      "  Stored in directory: /root/.cache/pip/wheels/ec/cf/85/6510073851062842b32f645408689e37308c9c612e9f4eabe6\n",
      "Successfully built http-status\n",
      "Installing collected packages: http-status\n",
      "Successfully installed http-status-1.0.0\n"
     ]
    }
   ],
   "source": [
    "!pip install http_status"
   ]
  },
  {
   "cell_type": "code",
   "execution_count": 121,
   "metadata": {
    "colab": {
     "base_uri": "https://localhost:8080/"
    },
    "executionInfo": {
     "elapsed": 1192,
     "status": "ok",
     "timestamp": 1612108432949,
     "user": {
      "displayName": "Reechika Jain",
      "photoUrl": "",
      "userId": "17683768411973625930"
     },
     "user_tz": -330
    },
    "id": "qb0FecEcDaKJ",
    "outputId": "ecb2b8ff-5958-4ce2-f901-89a325611cb4"
   },
   "outputs": [
    {
     "name": "stdout",
     "output_type": "stream",
     "text": [
      "        sc-status\n",
      "95            404\n",
      "1777          410\n",
      "2675          500\n",
      "26687         406\n",
      "126616        403\n"
     ]
    }
   ],
   "source": [
    "#errors encountered \n",
    "import http_status\n",
    "from http_status import Status\n",
    "\n",
    "uniqueErrors =logData[['sc-status']]\n",
    "uniqueErrors = uniqueErrors.drop_duplicates()\n",
    "#filtering client and server side errors\n",
    "uniqueErrors['sc-status'] = uniqueErrors['sc-status'].astype(int)\n",
    "uniqueErrors = uniqueErrors[uniqueErrors['sc-status'] >= 400]\n",
    "print(uniqueErrors)"
   ]
  },
  {
   "cell_type": "code",
   "execution_count": 122,
   "metadata": {
    "colab": {
     "base_uri": "https://localhost:8080/"
    },
    "executionInfo": {
     "elapsed": 1062,
     "status": "ok",
     "timestamp": 1612108858511,
     "user": {
      "displayName": "Reechika Jain",
      "photoUrl": "",
      "userId": "17683768411973625930"
     },
     "user_tz": -330
    },
    "id": "sV1rI8HJJo9J",
    "outputId": "3acea020-14e9-45c7-c3f5-b14491e57cdf"
   },
   "outputs": [
    {
     "name": "stdout",
     "output_type": "stream",
     "text": [
      "        errorCode                                       errorMessage\n",
      "95            404             Server cannot find requested resource.\n",
      "1777          410  Requested content has been delected from the s...\n",
      "2675          500  Server has encountered a situation it doesn't ...\n",
      "26687         406  Requested resource is only capable of generati...\n",
      "126616        403  Client does not have rights to access the cont...\n"
     ]
    }
   ],
   "source": [
    "#reasons for the errors\n",
    "errorCode = []\n",
    "errorMessage = []\n",
    "for idx,row in uniqueErrors.iterrows() :\n",
    "    error = Status(row['sc-status'])\n",
    "    errorCode.append(error.code)\n",
    "    errorMessage.append(error.description)\n",
    "\n",
    "uniqueErrors['errorCode'] = errorCode\n",
    "uniqueErrors['errorMessage'] = errorMessage\n",
    "del uniqueErrors['sc-status']\n",
    "print(uniqueErrors)    "
   ]
  },
  {
   "cell_type": "code",
   "execution_count": 146,
   "metadata": {
    "colab": {
     "base_uri": "https://localhost:8080/"
    },
    "executionInfo": {
     "elapsed": 5302,
     "status": "ok",
     "timestamp": 1612112438632,
     "user": {
      "displayName": "Reechika Jain",
      "photoUrl": "",
      "userId": "17683768411973625930"
     },
     "user_tz": -330
    },
    "id": "aaphRigoLbsq",
    "outputId": "5bc5ff50-d41a-485b-f0a7-65bf97af1e69"
   },
   "outputs": [
    {
     "name": "stderr",
     "output_type": "stream",
     "text": [
      "/usr/local/lib/python3.6/dist-packages/pandas/core/strings.py:2001: UserWarning: This pattern has match groups. To actually get the groups, use str.extract.\n",
      "  return func(self, *args, **kwargs)\n"
     ]
    },
    {
     "name": "stdout",
     "output_type": "stream",
     "text": [
      "                                          time-taken\n",
      "cs-host                                             \n",
      "mirror-reports.thebdxlive.com            2600.807018\n",
      "www3.newhomesource.com                   2542.333333\n",
      "reports.thebdxlive.com                   2249.542094\n",
      "www.thebdxlive.com                        781.166176\n",
      "shoppingkit.newhomesource.com             608.615478\n",
      "resources-shoppingkit.newhomesource.com   577.538462\n",
      "newhomesourceprofessional.com             544.435185\n",
      "svc.newhomesource.com                     531.538188\n",
      "www.homebuilder.ca                        523.329787\n",
      "www.newhomelistings.com                   472.620206\n",
      "www.casasnuevasaqui.com                   410.452185\n",
      "www.newhomesource.com:443                 390.000000\n",
      "newhomes.advance.net                      340.463600\n",
      "newhomes.silive.com                       310.480562\n",
      "newhomes.reviewjournal.com                277.903543\n",
      "newhomes.al.com                           271.999429\n",
      "newhomes.oregonlive.com                   257.424207\n",
      "ftp.showingnew.com                        250.000000\n",
      "www.newhomesource.com                     239.547885\n",
      "newhomes.syracuse.com                     228.403225\n",
      "newhomes.masslive.com                     206.599181\n",
      "newhomes.cleveland.com                    176.561940\n",
      "showingnew.com                            174.590278\n",
      "www.showingnew.com                        137.851271\n",
      "newhomes.lehighvalleylive.com             129.847782\n",
      "newhomes.nj.com                           124.093108\n",
      "newhomesourcepro.com                      124.000000\n",
      "www.newhomesourceprofessional.com         121.470916\n",
      "newhomes.gulflive.com                     112.430703\n",
      "nhspro.com                                109.000000\n",
      "newhomes.mlive.com                        105.941872\n",
      "newhomes.pennlive.com                     104.414704\n",
      "www.customnewhomes.com                     94.800000\n",
      "www.newhomesourcepro.com                   85.500000\n",
      "thebdxlive.com                             67.125000\n",
      "www.homebuilder.com                        63.046196\n",
      "beta.thebdxlive.com                        58.200155\n",
      "partners.newhomesource.com                 56.666667\n",
      "www.newhomesource.com:80                   56.250000\n",
      "www.newretirementcommunities.com           55.511792\n",
      "casasnuevasaqui.com                        53.034247\n",
      "newhomesource.com                          52.856835\n",
      "www.NewHomeSourceProfessional.com          51.666667\n",
      "resources.newhomesourceprofessional.com    40.048696\n",
      "NewHomeSourceProfessional.com              31.000000\n",
      "homebuilder.com                            23.000000\n",
      "www.casasnuevasaqui.com:80                 15.000000\n"
     ]
    }
   ],
   "source": [
    "#response time for hosts\n",
    "responseTime = logData[['cs-host','time-taken']]\n",
    "\n",
    "#cleaning wherever '-' occurs or an ip address occurr\n",
    "regexForIP = '((25[0-5]|2[0-4][0-9]|[01]?[0-9][0-9]?)\\.){3}(25[0-5]|2[0-4][0-9]|[01]?[0-9][0-9]?)'\n",
    "responseTime = responseTime[responseTime['cs-host'] != '-'] \n",
    "responseTime = responseTime[responseTime['cs-host'].str.contains(regexForIP) != True]\n",
    "\n",
    "#grouping by cs-host and finding the host taking the highest time to respond\n",
    "responseTime['time-taken'] = responseTime['time-taken'].astype(int)\n",
    "responseTime = responseTime.groupby(['cs-host']).mean()\n",
    "responseTime = responseTime.sort_values('time-taken',ascending = False)\n",
    "print(responseTime)"
   ]
  },
  {
   "cell_type": "code",
   "execution_count": 150,
   "metadata": {
    "colab": {
     "base_uri": "https://localhost:8080/"
    },
    "executionInfo": {
     "elapsed": 2186,
     "status": "ok",
     "timestamp": 1612112696819,
     "user": {
      "displayName": "Reechika Jain",
      "photoUrl": "",
      "userId": "17683768411973625930"
     },
     "user_tz": -330
    },
    "id": "-K9J66fgZQxu",
    "outputId": "741e2cd0-0f9d-4ad4-a9bc-cda78dadb727"
   },
   "outputs": [
    {
     "name": "stdout",
     "output_type": "stream",
     "text": [
      "conclusion 3 : mirror-reports.thebdxlive.com host has the highest response time \n"
     ]
    }
   ],
   "source": [
    "print(\"conclusion 3 : mirror-reports.thebdxlive.com host has the highest response time \")"
   ]
  },
  {
   "cell_type": "code",
   "execution_count": 153,
   "metadata": {
    "colab": {
     "base_uri": "https://localhost:8080/"
    },
    "executionInfo": {
     "elapsed": 1057,
     "status": "ok",
     "timestamp": 1612113663048,
     "user": {
      "displayName": "Reechika Jain",
      "photoUrl": "",
      "userId": "17683768411973625930"
     },
     "user_tz": -330
    },
    "id": "j-3HJQ-YZ7dB",
    "outputId": "c1c3ae0c-3c37-4bf0-e445-d7653524ca7c"
   },
   "outputs": [
    {
     "name": "stdout",
     "output_type": "stream",
     "text": [
      "                cs-method\n",
      "c-ip                     \n",
      "204.101.161.19      10592\n",
      "216.244.66.235       8897\n",
      "167.61.173.39        5173\n",
      "46.4.64.197          3769\n",
      "17.58.101.208        3688\n",
      "...                   ...\n",
      "68.52.98.22             1\n",
      "174.204.80.218          1\n",
      "68.52.175.194           1\n",
      "68.51.4.9               1\n",
      "1.129.105.229           1\n",
      "\n",
      "[23781 rows x 1 columns]\n"
     ]
    }
   ],
   "source": [
    "#which user seems to be most interested\n",
    "userRequest = logData[['c-ip','cs-method']]\n",
    "userRequest = userRequest.groupby(['c-ip']).count()\n",
    "userRequest = userRequest.sort_values('cs-method',ascending = False)\n",
    "print(userRequest)"
   ]
  },
  {
   "cell_type": "code",
   "execution_count": 154,
   "metadata": {
    "colab": {
     "base_uri": "https://localhost:8080/"
    },
    "executionInfo": {
     "elapsed": 1238,
     "status": "ok",
     "timestamp": 1612113718688,
     "user": {
      "displayName": "Reechika Jain",
      "photoUrl": "",
      "userId": "17683768411973625930"
     },
     "user_tz": -330
    },
    "id": "W4Y8uLajdnYY",
    "outputId": "621eda58-e271-429b-b50d-09494ba1332d"
   },
   "outputs": [
    {
     "name": "stdout",
     "output_type": "stream",
     "text": [
      "conclusion 4 : the client with ip address 204.101.161.19 seems to be the most interested \n"
     ]
    }
   ],
   "source": [
    "print(\"conclusion 4 : the client with ip address 204.101.161.19 seems to be the most interested \")"
   ]
  }
 ],
 "metadata": {
  "colab": {
   "authorship_tag": "ABX9TyP6N/6shDj4zj9eIoASvLp0",
   "collapsed_sections": [],
   "name": "eda-log-file.ipynb",
   "provenance": []
  },
  "kernelspec": {
   "display_name": "Python 3",
   "language": "python",
   "name": "python3"
  },
  "language_info": {
   "codemirror_mode": {
    "name": "ipython",
    "version": 3
   },
   "file_extension": ".py",
   "mimetype": "text/x-python",
   "name": "python",
   "nbconvert_exporter": "python",
   "pygments_lexer": "ipython3",
   "version": "3.8.5"
  }
 },
 "nbformat": 4,
 "nbformat_minor": 1
}
